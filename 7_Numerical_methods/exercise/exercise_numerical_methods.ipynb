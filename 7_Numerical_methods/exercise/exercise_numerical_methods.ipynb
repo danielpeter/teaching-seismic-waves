{
 "cells": [
  {
   "cell_type": "markdown",
   "metadata": {},
   "source": [
    "<div style=\"float: right; width: 70%; height: 150px;\">\n",
    "  <div style=\"position: relative; top: 20%;padding-right:20%;\">\n",
    "  <div style=\"font-size:280%;font-weight: bold;padding-top: 20px;\"> Exercise</div>\n",
    "  <div style=\"font-size:180%;font-weight: bold;padding-top: 20px;color: rgba(0 , 0 , 0 , 0.5);\"> Numerical methods</div>\n",
    "  </div>\n",
    "</div>\n"
   ]
  },
  {
   "cell_type": "markdown",
   "metadata": {},
   "source": [
    "This script will demonstrate how to use a finite-difference method to solve the wave equations.\n",
    "\n",
    "**Questions**:<br> \n",
    "**What happens to the solution, if you decrease the grid mesh size?**<br>\n",
    "**How does the time step size affect the solution?**<br> \n",
    "\n",
    "\n",
    "for more notebooks in seismology, see:<br>\n",
    "https://krischer.github.io/seismo_live_build/tree/index.html\n"
   ]
  },
  {
   "cell_type": "markdown",
   "metadata": {},
   "source": [
    "## Theory\n",
    "\n",
    "In this example, we will solve the 1D wave equation for a homogeneous media:\n",
    "$$\n",
    "\\partial_t^2 u(x,t) = c^2 \\partial_x^2 u(x,t)\n",
    "$$\n",
    "where we have introduced the wave speed $c = \\sqrt{\\kappa/\\rho}$ (with $\\kappa$ being the bulk modulus, and $\\rho$ density) for compressional wave propagation.\n",
    "\n",
    "\n",
    "### Discretization\n",
    "\n",
    "The finite-difference method approximates the differential operators with numerical schemes using small temporal $\\Delta t$ and spatial $\\Delta x$ discretizations. Here, we will approximate the differential operators $\\partial_t^2$ and $\\partial_x^2$ with a second-order central difference scheme:\n",
    "$$\n",
    "\\partial_t^2 u \\approx \\frac{u(x,t+\\Delta t) - 2 u(x,t) + u(x,t-\\Delta t)}{\\Delta t^2}\n",
    "$$\n",
    "and\n",
    "$$\n",
    "\\partial_x^2 u \\approx \\frac{u(x+\\Delta x,t) - 2 u(x,t) + u(x-\\Delta x,t)}{\\Delta x^2}\n",
    "$$\n",
    "\n",
    "Let us introduce the discretization for space $x_i = i * \\Delta x$ and time $t^n = n * \\Delta t$, and simplify the notation by using just the indices $n$ for the temporal time $t^n$ and $i$ for the spatial position $x_i$. Then, time $t^n + \\Delta t$ becomes index $n + 1$, position $x_i + \\Delta x$ becomes $i + 1$ and we can rewrite the wave equation in its discretized form:\n",
    "$$\n",
    "\\frac{u_i^{n+1} - 2 u_i^n + u_i^{n-1}}{\\Delta t^2} = c^2 \\frac{u_{i+1}^n - 2 u_i^n + u_{i-1}^n}{\\Delta x^2}\n",
    "$$\n",
    "where we want to solve the displacement $u(x,t)$ on all the grid positions $x_i = i * \\Delta x$ and times $t^n = n * \\Delta t$. \n",
    "\n",
    "### Explicit formulation of the wave equation\n",
    "\n",
    "With our choice of using the central difference scheme for both derivatives and the subsequent discretized version of the wave equation, we find that the displacement at time $t^n + \\Delta t$ can be written as\n",
    "$$\n",
    "u_i^{n+1} = 2 u_i^n - u_i^{n-1} + \\Delta t^2 c^2 \\frac{u_{i+1}^n - 2 u_i^n + u_{i-1}^n}{\\Delta x^2} \n",
    "$$\n",
    "That is, the displacement $u(x_i,t^{n+1})$ only depends on displacement values of the previous time steps $t^n$ and $t^{n-1}$. This is a so-called explicit scheme to solve for the updates. \n",
    "\n",
    "\n",
    "### Analytical solution\n",
    "\n",
    "It's always a great idea to compare to an analytical solution whenever possible. That will provide us an idea about the accuracy of the numerical solution. \n",
    "For this simple wave equation and initial value problem, let's write again the wave equation as\n",
    "$$\n",
    "u_{tt} = c^2 u_{xx}\n",
    "$$\n",
    "with the initial conditions for displacement and velocity \n",
    "$$\n",
    "u(x,0) = \\phi(x)   \\,\\, \\textrm{and} \\,\\, u_t(x,0) = \\psi(x)\n",
    "$$\n",
    "\n",
    "\n",
    "The general solution can be written in the form $u(x,t) = f(x + c t) + g(x - c t)$\n",
    "with $\\phi(x) = f(x) + g(x)$ and $\\psi(x) = c f'(x) + c g'(x)$. Solving for $f$ and $g$, one finds that the solution can be written as\n",
    "$$\n",
    "u(x,t) = \\frac{1}{2} [ \\phi(x + ct) + \\phi(x - ct) ] + \\frac{1}{2c} \\int_{x-ct}^{x+ct} \\psi(s) ds\n",
    "$$\n",
    "\n",
    "\n",
    "In our case, we can further simplify it as our initial velocity will be zero, thus $\\psi(x) = 0$ and the displacement solution becomes\n",
    "$$\n",
    "u(x,t) = \\frac{1}{2} [ \\phi(x + ct) + \\phi(x - ct) ]\n",
    "$$\n",
    "\n",
    "\n",
    "Let's calculate this now..."
   ]
  },
  {
   "cell_type": "markdown",
   "metadata": {},
   "source": [
    "## 0. Setup\n",
    "\n",
    "Note: this python script requires extra packages for\n",
    "    - matplotlib (version 2.1.2) : > pip install -U matplotlib\n",
    "    - numpy      (version 1.14.0): > pip install -U numpy\n",
    "    - obspy      (version 1.1.0) : > pip install -U obspy"
   ]
  },
  {
   "cell_type": "code",
   "execution_count": 1,
   "metadata": {},
   "outputs": [
    {
     "name": "stdout",
     "output_type": "stream",
     "text": [
      "matplotlib version:  3.5.1\n",
      "numpy version:  1.21.5\n"
     ]
    }
   ],
   "source": [
    "from __future__ import print_function\n",
    "import os,sys\n",
    "\n",
    "# for fixed plots\n",
    "%matplotlib inline\n",
    "# for interactive plots\n",
    "#%matplotlib notebook\n",
    "from IPython.display import display, clear_output\n",
    "\n",
    "import matplotlib as mpl\n",
    "print(\"matplotlib version: \",mpl.__version__)\n",
    "\n",
    "import matplotlib.pyplot as plt\n",
    "plt.style.use('ggplot')\n",
    "plt.rcParams['figure.figsize'] = 20, 5\n",
    "plt.rcParams['lines.linewidth'] = 0.5\n",
    "\n",
    "## numpy\n",
    "import numpy as np\n",
    "print(\"numpy version: \",np.__version__)\n",
    "\n",
    "# do not show scipy warnings\n",
    "import warnings\n",
    "warnings.filterwarnings('ignore')"
   ]
  },
  {
   "cell_type": "markdown",
   "metadata": {},
   "source": [
    "\n",
    "\n",
    "## 1. Model\n",
    "\n",
    "We first specify a discretization of the model.<br>\n",
    "\n"
   ]
  },
  {
   "cell_type": "code",
   "execution_count": 2,
   "metadata": {},
   "outputs": [
    {
     "data": {
      "image/png": "[encoded data removed]",
      "text/plain": [
       "<Figure size 1440x360 with 1 Axes>"
      ]
     },
     "metadata": {},
     "output_type": "display_data"
    }
   ],
   "source": [
    "# meshing parameters\n",
    "dx = 2.0                        # grid size\n",
    "x = np.arange(0,100.0+dx/2,dx)  # coordinates of grid points: 0-100\n",
    "nx = len(x)                     # number of grid points\n",
    "\n",
    "## material properties\n",
    "rho = np.ones(nx)               # density = 1 (kg/m^3)\n",
    "kappa = np.ones(nx)             # bulk modulus = 1 Pa = 1 N/m^2 = 1 kg/(m s^2)\n",
    "\n",
    "c  = np.sqrt(kappa/rho)         # wavespeed in m/s\n",
    "c2 = kappa/rho                  # wavespeed square: c^2\n",
    "\n",
    "# plot\n",
    "plt.plot(x, np.zeros(nx), marker='o', color='black', label='Mesh')\n",
    "plt.legend()\n",
    "plt.show()"
   ]
  },
  {
   "cell_type": "markdown",
   "metadata": {},
   "source": [
    "## 2. Time \n",
    "\n",
    "Here we choose a time step size"
   ]
  },
  {
   "cell_type": "code",
   "execution_count": 3,
   "metadata": {},
   "outputs": [
    {
     "name": "stdout",
     "output_type": "stream",
     "text": [
      "time step dt =  1.0\n",
      "number of time steps nt =  21\n",
      "\n"
     ]
    }
   ],
   "source": [
    "# timing parameters\n",
    "FACTOR = 0.25\n",
    "\n",
    "dt = FACTOR * np.min(dx**2/c2)      # time step\n",
    "dt = np.round(dt,decimals=4)        # round-off 4 digit\n",
    "\n",
    "T_total = 20.0                      # simulation time: 0-200\n",
    "t = np.arange(0,T_total+dt/2,dt)\n",
    "nt = len(t)\n",
    "\n",
    "print(\"time step dt = \",dt)\n",
    "print(\"number of time steps nt = \",nt)\n",
    "print(\"\")\n",
    "\n"
   ]
  },
  {
   "cell_type": "markdown",
   "metadata": {},
   "source": [
    "## 3. Initial conditions\n",
    "\n",
    "Let's assign an initial displacement of the form $u(x,0) = \\phi(x)$ with $\\phi(x) = e^{-\\sigma(x-50)}$ where $\\sigma = 0.1$:"
   ]
  },
  {
   "cell_type": "code",
   "execution_count": 4,
   "metadata": {
    "scrolled": true
   },
   "outputs": [
    {
     "data": {
      "image/png": "[encoded data removed]",
      "text/plain": [
       "<Figure size 1440x360 with 1 Axes>"
      ]
     },
     "metadata": {},
     "output_type": "display_data"
    }
   ],
   "source": [
    "# wavefields\n",
    "u         = np.zeros(nx)  # displacement at time t^n\n",
    "u_nminus1 = np.zeros(nx)  #                 time t^{n-1}\n",
    "u_nplus1  = np.zeros(nx)  #                 time t^{n+1}\n",
    "\n",
    "u_analytic = np.zeros(nx)  # analytical solution\n",
    "\n",
    "# initial displacement function\n",
    "def phi_function(x):\n",
    "    # initial displacement\n",
    "    sigma = 0.1\n",
    "    phi = np.exp(-sigma*(x-50)**2) \n",
    "    return phi\n",
    "\n",
    "# initial condition\n",
    "def initialize():\n",
    "    global u,u_nminus1,u_nplus1    \n",
    "    # initial displacement\n",
    "    u = phi_function(x)\n",
    "    # same for previous (zero velocity from previous time step)\n",
    "    u_nminus1 = np.copy(u)\n",
    "    # same for next (zero velocity for upcoming time step)\n",
    "    u_nplus1 = np.copy(u)\n",
    "\n",
    "initialize()\n",
    "\n",
    "# plot\n",
    "plt.plot(x, u, marker='o', color='b', label='Initial displacement (t=0)')\n",
    "plt.legend()\n",
    "plt.show()"
   ]
  },
  {
   "cell_type": "markdown",
   "metadata": {},
   "source": [
    "Now we're all set and can start propagating waves in our time loop:"
   ]
  },
  {
   "cell_type": "code",
   "execution_count": 5,
   "metadata": {
    "scrolled": true
   },
   "outputs": [
    {
     "data": {
      "image/png": "[encoded data removed]",
      "text/plain": [
       "<Figure size 1440x360 with 1 Axes>"
      ]
     },
     "metadata": {},
     "output_type": "display_data"
    },
    {
     "name": "stdout",
     "output_type": "stream",
     "text": [
      "\n"
     ]
    }
   ],
   "source": [
    "print(\"starting time loop ... \")\n",
    "print(\"\")\n",
    "\n",
    "# initialize\n",
    "initialize()\n",
    "\n",
    "# set up plot\n",
    "plt.clf()\n",
    "fig = plt.figure()\n",
    "ax = fig.add_subplot(1, 1, 1) \n",
    "\n",
    "# time marching\n",
    "for it in np.arange(0,nt):\n",
    "\n",
    "    # time scheme\n",
    "    u_nminus1 = np.copy(u)\n",
    "    u = np.copy(u_nplus1)\n",
    "\n",
    "    # finite-difference update\n",
    "    for i in np.arange(1,nx-1):\n",
    "        u_nplus1[i] = 2*u[i]-u_nminus1[i]+(dt*dt*c2[i]/(dx*dx))*(u[i+1]-2*u[i]+u[i-1])\n",
    "\n",
    "    # plot figure\n",
    "    if (it+1)%2 == 0:\n",
    "        t_nplus1 = (it+1) * dt\n",
    "        \n",
    "        # analytical solution\n",
    "        for ix in np.arange(len(x)):\n",
    "            x_pos = ix * dx # position\n",
    "            f = phi_function(x_pos + c[ix] * t_nplus1)\n",
    "            g = phi_function(x_pos - c[ix] * t_nplus1)            \n",
    "            u_analytic[ix] = 1.0/2.0 * ( f + g)\n",
    "            \n",
    "        # plotting\n",
    "        t_nplus1 = np.round(t_nplus1,decimals=4)        # round-off 4 digit\n",
    "        print(\"time step \",it,\" - time = \",t_nplus1)\n",
    "\n",
    "        # plots displacement  \n",
    "        clear_output(wait=True)\n",
    "        plt.title('Time t = ' + str(t_nplus1))\n",
    "        plt.plot(x, u_nplus1, marker='o', color = 'b', label = 'displacement')\n",
    "        plt.plot(x, u_analytic, color = 'black', label = 'analytic')\n",
    "        plt.ylim(-1,1)\n",
    "        plt.legend()\n",
    "        #plt.show()\n",
    "        plt.pause(0.5)\n",
    "        print(\"\")\n"
   ]
  },
  {
   "cell_type": "markdown",
   "metadata": {},
   "source": [
    "Now, change the grid size and see what happens. Then, make the time step size factor much bigger and play again..."
   ]
  },
  {
   "cell_type": "code",
   "execution_count": null,
   "metadata": {},
   "outputs": [],
   "source": []
  }
 ],
 "metadata": {
  "kernelspec": {
   "display_name": "Python 3 (ipykernel)",
   "language": "python",
   "name": "python3"
  },
  "language_info": {
   "codemirror_mode": {
    "name": "ipython",
    "version": 3
   },
   "file_extension": ".py",
   "mimetype": "text/x-python",
   "name": "python",
   "nbconvert_exporter": "python",
   "pygments_lexer": "ipython3",
   "version": "3.7.13"
  }
 },
 "nbformat": 4,
 "nbformat_minor": 2
}
