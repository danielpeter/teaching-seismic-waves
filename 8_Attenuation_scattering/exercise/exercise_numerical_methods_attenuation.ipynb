{
 "cells": [
  {
   "cell_type": "markdown",
   "metadata": {},
   "source": [
    "<div style=\"float: right; width: 70%; height: 150px;\">\n",
    "  <div style=\"position: relative; top: 20%;padding-right:20%;\">\n",
    "  <div style=\"font-size:280%;font-weight: bold;padding-top: 20px;\"> Exercise</div>\n",
    "  <div style=\"font-size:180%;font-weight: bold;padding-top: 20px;color: rgba(0 , 0 , 0 , 0.5);\"> Attenuation</div>\n",
    "  </div>\n",
    "</div>\n"
   ]
  },
  {
   "cell_type": "markdown",
   "metadata": {},
   "source": [
    "Based on our previous example of solving the acoustic wave equation with a finite-difference method, here we will add a viscoaoustic medium to study the effect of attenuation.\n",
    "\n",
    "**Questions**:<br> \n",
    "**How does attenuation affect the shape and velocity of the wave packet?**<br> \n",
    "**At which Q values there is no attenuation effect anymore?**<br>\n",
    "\n",
    "\n",
    "\n",
    "for more notebooks in seismology, see:<br>\n",
    "https://krischer.github.io/seismo_live_build/tree/index.html\n"
   ]
  },
  {
   "cell_type": "markdown",
   "metadata": {},
   "source": [
    "Note: this python script requires extra packages for\n",
    "    - matplotlib (version 2.1.2) : > pip install -U matplotlib\n",
    "    - numpy      (version 1.14.0): > pip install -U numpy\n",
    "    - obspy      (version 1.1.0) : > pip install -U obspy"
   ]
  },
  {
   "cell_type": "code",
   "execution_count": 362,
   "metadata": {},
   "outputs": [
    {
     "name": "stdout",
     "output_type": "stream",
     "text": [
      "matplotlib version:  3.5.1\n",
      "numpy version:  1.21.5\n"
     ]
    }
   ],
   "source": [
    "from __future__ import print_function\n",
    "import os,sys\n",
    "\n",
    "# for fixed plots\n",
    "%matplotlib inline\n",
    "# for interactive plots\n",
    "#%matplotlib notebook\n",
    "from IPython.display import display, clear_output\n",
    "\n",
    "import matplotlib as mpl\n",
    "print(\"matplotlib version: \",mpl.__version__)\n",
    "\n",
    "import matplotlib.pyplot as plt\n",
    "plt.style.use('ggplot')\n",
    "plt.rcParams['figure.figsize'] = 20, 5\n",
    "plt.rcParams['lines.linewidth'] = 0.5\n",
    "\n",
    "## numpy\n",
    "import numpy as np\n",
    "print(\"numpy version: \",np.__version__)\n",
    "\n",
    "# do not show scipy warnings\n",
    "import warnings\n",
    "warnings.filterwarnings('ignore')"
   ]
  },
  {
   "cell_type": "markdown",
   "metadata": {},
   "source": [
    "## Theory\n",
    "\n",
    "From our previous exercise, we wrote the 1D wave equation for a homogeneous media as\n",
    "$$\n",
    "\\partial_t^2 u(x,t) = c^2 \\partial_x^2 u(x,t)\n",
    "$$\n",
    "where we have introduced the wave speed $c = \\sqrt{\\kappa/\\rho}$ (with $\\kappa$ being the bulk modulus, and $\\rho$ density) for compressional wave propagation. The equation can be derived by using a purely acoustic (or elastic) medium response, where the stress and strain relation is\n",
    "$$\n",
    "\\sigma(x)  = \\kappa \\, \\partial_x u(x,t)\n",
    "$$\n",
    "with strain $\\epsilon(x,t) = \\frac{1}{2}[ \\partial_x u + (\\partial_x u(x,t) )^T ] = \\partial_x u(x,t)$. Thus, we can write the above wave equation in a more general form as\n",
    "$$\n",
    "\\begin{align}\n",
    "\\partial_t^2 u(x,t) &=  \\frac{1}{\\rho} \\, \\partial_x( \\kappa \\, \\partial_x u(x,t) ) \\\\\n",
    " &=  \\frac{1}{\\rho} \\, \\partial_x( \\sigma(x) ) \n",
    "\\end{align}\n",
    "$$\n",
    "We see later that in this form, it is easier to compare against the viscoacoustic formulation.\n",
    "\n",
    "### Viscoacoustic media\n",
    "\n",
    "Let us introduce attenuation by describing a viscoacoustic medium where the stress-strain relation is written as\n",
    "$$\n",
    "\\sigma(t) = \\int_{-\\infty}^t \\kappa(t - t') \\dot{\\epsilon}(t') dt'\n",
    "$$\n",
    "where we dropped the dependency on spatial positions for simplification. The bulk modulus $\\kappa$ becomes a function of time $\\kappa(t)$ with the instantaneous reponse $\\kappa(0) = \\kappa_u$ being the unrelaxed modulus, and after enough time reaching $\\kappa(\\infty) = \\kappa_r$ the relaxed modulus ($\\kappa_u > \\kappa_r$).\n",
    "\n",
    "\n",
    "To solve this, we resort to the standard linear solids and memory variables approach. The constitutive relationship for a standard linear solid is defined by\n",
    "$$\n",
    "\\dot{\\sigma} + \\tau_\\sigma^{-1} \\sigma = \\kappa_u ( \\dot{\\epsilon} + \\tau_\\epsilon^{-1} \\epsilon)\n",
    "$$\n",
    "with stress and strain relaxation times $\\tau_\\sigma$ and $\\tau_\\epsilon$, respectively ($\\tau_\\sigma \\leq \\tau_\\epsilon$). The complex modulus is related to the quality factor $Q^{-1} = \\frac{\\Im(\\kappa)}{\\Re(\\kappa)} = \\frac{\\kappa_2}{\\kappa_1}$. In frequency domain, we define \n",
    "$$\n",
    "\\frac{1}{Q} = \\frac{\\kappa_2}{\\kappa_1} = \\frac{\\omega(\\tau_\\epsilon - \\tau_\\sigma)}{1 + \\omega^2 \\tau_\\sigma \\tau_\\epsilon}\n",
    "$$\n",
    "centered around the Debye peak frequency given by the geometrical mean of the stress and strain relaxation times $\\omega_{Debye}^{-1} = \\sqrt{ \\tau_\\sigma \\tau_\\epsilon}$.\n"
   ]
  },
  {
   "cell_type": "code",
   "execution_count": 363,
   "metadata": {
    "scrolled": false
   },
   "outputs": [
    {
     "data": {
      "image/png": "[encoded data removed]",
      "text/plain": [
       "<Figure size 1440x360 with 1 Axes>"
      ]
     },
     "metadata": {},
     "output_type": "display_data"
    }
   ],
   "source": [
    "# example: single standard linear solid \n",
    "\n",
    "def attenuation_Q_inv(omega,tau_s,tau_e):\n",
    "    Q_inv = omega * (tau_e - tau_s) / ( 1.0 + omega**2 * tau_s * tau_e )\n",
    "    return Q_inv\n",
    "\n",
    "tau_s = 0.1  # stress relaxation time\n",
    "tau_e = 0.6  # strain relaxation time\n",
    "\n",
    "# frequencies\n",
    "freqs = np.logspace(-3,3,100)\n",
    "freqs = freqs * 2.0 * np.pi    # angular frequencies\n",
    "\n",
    "# Debye peak\n",
    "f_peak = 1.0/np.sqrt(tau_s * tau_e)\n",
    "\n",
    "# plot\n",
    "plt.plot(freqs,attenuation_Q_inv(freqs,tau_s,tau_e), marker='o', color='black', label='1/Q')\n",
    "plt.vlines(f_peak,ymin=0.0,ymax=1.0,color='red',label=\"Debye peak = {:2.2f} Hz\".format(f_peak))\n",
    "plt.xscale('log'); plt.xlabel('frequency'); plt.ylabel('1/Q')\n",
    "plt.legend()\n",
    "plt.show()\n",
    "\n"
   ]
  },
  {
   "cell_type": "markdown",
   "metadata": {},
   "source": [
    "We could now add more standard linear solids at different Debye peak frequencies to be summed up for $Q^{-1}$. This would broaden up the Q-spectrum to model a flat $Q^{-1}$ value over a broader frequency range. For simplification, we only consider a single solid mechanism from here on.\n",
    "\n",
    "\n",
    "In time domain, we express the bulk modulus as\n",
    "$$\n",
    "\\kappa(t) = \\kappa_r [ 1 - (1 - \\frac{\\tau_\\epsilon}{\\tau_\\sigma} ) e^{- t/\\tau_\\sigma}] \\,\\, , t \\geq 0\n",
    "$$\n",
    "where we see that $\\kappa(0) = \\kappa_u = \\kappa_r \\frac{\\tau_\\epsilon}{\\tau_\\sigma}$. The modulus defect is defined as $\\delta \\kappa = \\kappa_u - \\kappa_r = \\kappa_r(\\frac{\\tau_\\epsilon}{\\tau_\\sigma} - 1)$.\n"
   ]
  },
  {
   "cell_type": "code",
   "execution_count": 364,
   "metadata": {},
   "outputs": [
    {
     "data": {
      "image/png": "[encoded data removed]",
      "text/plain": [
       "<Figure size 1440x360 with 1 Axes>"
      ]
     },
     "metadata": {},
     "output_type": "display_data"
    }
   ],
   "source": [
    "#example: bulk modulus as a function of time\n",
    "def bulk_relaxation_function(t,kappa_r,tau_s,tau_e):\n",
    "    kappa = kappa_r * ( 1.0 - (1.0 - tau_e/tau_s) * np.exp(-t / tau_s) )\n",
    "    return kappa\n",
    "\n",
    "kappa_r = 1.0  # relaxed modulus\n",
    "\n",
    "# unrelaxed modulus\n",
    "kappa_u = kappa_r * tau_e/tau_s\n",
    "\n",
    "# times\n",
    "time_t = np.linspace(0.0,1.0,100)\n",
    "\n",
    "# plot\n",
    "plt.plot(time_t,bulk_relaxation_function(time_t,kappa_r,tau_s,tau_e), marker='o', color='black', label='bulk modulus')\n",
    "plt.hlines(kappa_u,xmin=0.0,xmax=0.5,color='blue',linestyle='dashed',linewidth=2,label=\"unrelaxed modulus = {:2.2f}\".format(kappa_u))\n",
    "plt.hlines(kappa_r,xmin=0.0,xmax=0.5,color='blue',linewidth=2,label=\"relaxed modulus = {:2.2f}\".format(kappa_r))\n",
    "plt.xlabel('time (s)'); plt.ylim(0.0,kappa_u+0.5); plt.ylabel('bulk modulus')\n",
    "plt.arrow(0.5,kappa_r,0.0,(kappa_u-kappa_r),color='blue',length_includes_head=True,head_width=0.01,head_length=0.5)\n",
    "plt.arrow(0.5,kappa_u,0.0,-(kappa_u-kappa_r),color='blue',length_includes_head=True,head_width=0.01,head_length=0.5)\n",
    "plt.text(0.51,4.0,\"modulus defect $\\delta \\kappa$\", color='blue', fontsize=14)\n",
    "plt.legend()\n",
    "plt.show()"
   ]
  },
  {
   "cell_type": "markdown",
   "metadata": {},
   "source": [
    "The constitutive relationship for the standard linear solid becomes\n",
    "$$\n",
    "\\sigma(t) = \\kappa_u \\epsilon(t) - R(t)\n",
    "$$\n",
    "with the memory variable\n",
    "$$\n",
    "R(t) = \\int_{-\\infty}^t e^{-(t - t')/\\tau_\\sigma} \\epsilon(t') dt' \\frac{\\delta \\kappa}{\\tau_\\sigma}\n",
    "$$\n",
    "using the modulus defect $\\delta \\kappa$. We further find that the memory variable has to satify the differential equation\n",
    "$$\n",
    "\\partial_t R(t) = - \\frac{R(t)}{\\tau_\\sigma} + \\epsilon \\frac{\\delta \\kappa}{\\tau_\\sigma}\n",
    "$$\n",
    "which can be solved numerically for example by an Euler scheme.\n",
    "\n",
    "The equation of motion for our viscoacoustic medium is now\n",
    "$$\n",
    "\\begin{align}\n",
    "\\partial_t^2 u(x,t) &=  \\frac{1}{\\rho} \\partial_x [ \\sigma(t) ] \\\\\n",
    "&=  \\frac{1}{\\rho} \\partial_x [ \\kappa_u \\epsilon(x,t) - R(t) ] \\\\\n",
    "&=  \\frac{1}{\\rho} \\partial_x [ \\kappa_u \\partial_x u(x,t) - R(t) ]\n",
    "\\end{align}\n",
    "$$\n",
    "where we need to additionally solve\n",
    "$$\n",
    "\\partial_t R(t) = - \\frac{R(t)}{\\tau_\\sigma} + \\epsilon \\frac{\\delta \\kappa}{\\tau_\\sigma}\n",
    "$$\n",
    "The memory variables can be seen as a modification of Hooke's stress to introduce the viscous behavior of the medium, when the elastic behavior would be defined by its unrelaxed modulus $\\kappa_u$.\n",
    "\n"
   ]
  },
  {
   "cell_type": "markdown",
   "metadata": {},
   "source": [
    "### Discretization\n",
    "\n",
    "We use the finite-difference method as in the previous example to solve the wave equation (see [example notebook on numerical methods](https://github.com/danielpeter/teaching-seismic-waves/blob/master/7_Numerical_methods/exercise/exercise_numerical_methods.ipynb)). With the discretization for space $x_i = i * \\Delta x$ and time $t^n = n * \\Delta t$ and the central-difference schemes for both first- and second-order derivatives:\n",
    "$$\n",
    "\\begin{align}\n",
    "\\partial_t^2 u(x,t) \\sim \\frac{u_i^{n+1} - 2 u_i^n + u_i^{n-1}}{\\Delta t^2}\\\\\n",
    "\\partial_x \\sigma(x,t) \\sim \\frac{\\sigma_{i+1}^n - \\sigma_{i-1}^n}{2 \\Delta x}\n",
    "\\end{align}\n",
    "$$\n",
    "the (viscoacoustic) wave equation in its discretized form becomes\n",
    "$$\n",
    "\\frac{u_i^{n+1} - 2 u_i^n + u_i^{n-1}}{\\Delta t^2} = \\frac{1}{\\rho} \\frac{\\sigma_{i+1}^n - \\sigma_{i-1}^n}{2 \\Delta x}\n",
    "$$\n",
    "\n",
    "\n",
    "The displacement at time $t^n + \\Delta t$ can therefore be written as\n",
    "$$\n",
    "u_i^{n+1} = 2 u_i^n - u_i^{n-1} + \\Delta t^2 \\frac{1}{\\rho} \\frac{\\sigma_{i+1}^n - \\sigma_{i-1}^n}{2 \\Delta x} \n",
    "$$\n",
    "\n",
    "\n",
    "To compute the modified stresses \n",
    "$$\\sigma = \\kappa_u \\partial_x u(x,t) - R(t)\n",
    "$$\n",
    "in its discretized form \n",
    "$$\n",
    "\\sigma_i^n = \\kappa_u \\frac{u_{i+1}^n - u_{i-1}^n}{2 \\Delta x} - R_i^n\n",
    "$$\n",
    "we must also solve the equation for the memory variable $R$. \n",
    "\n",
    "For such a first-order ordinary differential equation, \n",
    "$$\n",
    "\\partial_t R(t) = f(t,R(t)) \\,, R(t_0) = R^0\n",
    "$$\n",
    "we use the (forward) Euler method to approximate $R$ at time $t_n + \\Delta t$\n",
    "$$\n",
    "R^{n+1} = R^n + \\Delta t f(t^n, R^n)\n",
    "$$\n",
    "\n",
    "\n",
    "In our case, the function $f(t,R(t)) = - \\frac{R(t)}{\\tau_\\sigma} + \\epsilon \\frac{\\delta \\kappa}{\\tau_\\sigma}$ with strain $\\epsilon(x,t) = \\partial_x u(x,t)$, modulus defect $\\delta \\kappa = \\kappa_r (\\frac{\\tau_\\epsilon}{\\tau_\\sigma} - 1)$, and the initial condition $R(t_0) = R(0) = 0$.\n",
    "\n",
    "\n",
    "Let's calculate this now..."
   ]
  },
  {
   "cell_type": "markdown",
   "metadata": {},
   "source": [
    "\n",
    "\n",
    "## 1. Model\n",
    "\n",
    "We first specify a discretization of the model.<br>\n",
    "\n"
   ]
  },
  {
   "cell_type": "code",
   "execution_count": 365,
   "metadata": {},
   "outputs": [
    {
     "data": {
      "image/png": "[encoded data removed]",
      "text/plain": [
       "<Figure size 1440x360 with 1 Axes>"
      ]
     },
     "metadata": {},
     "output_type": "display_data"
    }
   ],
   "source": [
    "# meshing parameters\n",
    "dx = 0.5                        # grid size\n",
    "x = np.arange(0,100.0+dx/2,dx)  # coordinates of grid points: 0-100\n",
    "nx = len(x)                     # number of grid points\n",
    "\n",
    "# plot\n",
    "plt.plot(x, np.zeros(nx), marker='o', color='black', label='Mesh')\n",
    "plt.legend()\n",
    "plt.show()"
   ]
  },
  {
   "cell_type": "code",
   "execution_count": 366,
   "metadata": {},
   "outputs": [],
   "source": [
    "## material properties\n",
    "# note: we define now a viscoacoustic material, where we provide velocities or moduli at a given reference frequency,\n",
    "#       together with Q values. \n",
    "#       We should also specify, if the velocities or moduli are the relaxed or unrelaxed ones:\n",
    "#       here, we will provide them as being the unrelaxed ones \n",
    "#       (in which case attenuation will slow down velocities as kappa_u > kappa_r)\n",
    "rho = np.ones(nx)            # density = 1 (kg/m^3)\n",
    "kappa = np.ones(nx) * 1000   # bulk modulus = 1 kPa = 1000 Pa = 1000 N/m^2 = 1000 kg/(m s^2)\n",
    "\n",
    "Q = np.ones(nx) * 10         # Q quality factor\n",
    "reference_f0 = 1.0           # reference frequency at 1 Hz\n",
    "\n",
    "c  = np.sqrt(kappa/rho)      # wavespeed (used for purely acoustic analytical solution) in m/s"
   ]
  },
  {
   "cell_type": "markdown",
   "metadata": {},
   "source": [
    "With the given material definition, we can calculate the corresponding relaxation times of the standard linear solid. Having specified $Q$ and reference frequency $\\omega_0$, the relaxation times for our single solid can be found. Usually one would use multiple solids, and modeling a flat Q-curve within a certain frequency band becomes an optimization problem to find the best fitting relaxation times. \n",
    "\n",
    "#### Minimum wavelength \n",
    "Before we determine the position of our standard linear solid, i.e., the Debye peak frequency, let us quickly look at the frequency range of our numerical simulation. The minimum wavelength is determined by the grid spacing and the minimum number of grid points per wavelength we allow. For a finite-differences scheme like ours, a minimum of ~5-10 grid points per wavelength should be taken. The maximum wavelength is given by the full extent of our model. These wavelengths will determine the minimum and maximum periods, and frequency range of our simulation."
   ]
  },
  {
   "cell_type": "code",
   "execution_count": 367,
   "metadata": {},
   "outputs": [
    {
     "name": "stdout",
     "output_type": "stream",
     "text": [
      "wave speed              : 31.62 (m/s)\n",
      "wavelength              : min/max = 4.5 / 100.0 (m)\n",
      "period  range           : min/max = 0.14 / 3.16 (s)\n",
      "\n",
      "frequency range         : min/max = 0.32 / 7.03 (Hz)\n",
      "angular frequency range : min/max = 1.99 / 44.15 (Hz)\n",
      "\n",
      "center frequency        : min/max = 1.49 (Hz)\n",
      "center angular frequency: min/max = 9.37 (Hz)\n",
      "\n"
     ]
    }
   ],
   "source": [
    "def determine_frequency_range(dx,nx,c):\n",
    "    # minimum wavelength\n",
    "    lambda_min = dx * (10 - 1)    # to have 10 grid points per wavelength\n",
    "\n",
    "    # maximum wavelength\n",
    "    lambda_max = dx * (nx - 1)    # to match full model length\n",
    "\n",
    "    # wave speed\n",
    "    c_const = c[0]                # we have a constant material, but in general would use here the fastest wave velocity\n",
    "                                  # for the estimation\n",
    "\n",
    "    # period range\n",
    "    T_min = lambda_min / c_const\n",
    "    T_max = lambda_max / c_const\n",
    "\n",
    "    # frequency range\n",
    "    f_max = 1.0 / T_min\n",
    "    f_min = 1.0 / T_max\n",
    "\n",
    "    # angular frequency range\n",
    "    omega_max = 2.0 * np.pi * f_max\n",
    "    omega_min = 2.0 * np.pi * f_min\n",
    "\n",
    "    print(\"wave speed              : {:3.2f} (m/s)\".format(c_const))\n",
    "    print(\"wavelength              : min/max = {} / {} (m)\".format(lambda_min,lambda_max))\n",
    "    print(\"period  range           : min/max = {:2.2f} / {:2.2f} (s)\".format(T_min,T_max))\n",
    "    print(\"\")\n",
    "    print(\"frequency range         : min/max = {:2.2f} / {:2.2f} (Hz)\".format(f_min,f_max))\n",
    "    print(\"angular frequency range : min/max = {:2.2f} / {:2.2f} (Hz)\".format(omega_min,omega_max))\n",
    "    print(\"\")\n",
    "\n",
    "\n",
    "    # center frequency at the logarithmic mean (will determine the Debye peak frequency)\n",
    "    f_center = 10.0**( (np.log10(f_min) + np.log10(f_max))/2.0 )\n",
    "\n",
    "    omega_center = 2.0 * np.pi * f_center\n",
    "\n",
    "    print(\"center frequency        : min/max = {:2.2f} (Hz)\".format(f_center))\n",
    "    print(\"center angular frequency: min/max = {:2.2f} (Hz)\".format(omega_center))\n",
    "\n",
    "    print(\"\")\n",
    "    \n",
    "    return omega_center\n",
    "\n",
    "# gets center frequency    \n",
    "omega_center = determine_frequency_range(dx,nx,c)\n"
   ]
  },
  {
   "cell_type": "markdown",
   "metadata": {},
   "source": [
    "This center frequency is very close to the reference frequency of the model. Often, the simulation frequency range can be centered far away from the reference. \n",
    "\n",
    "To model attenuation with the standard linear solid approach, we will position the solids around this center frequency of the simulation to mimick the flat Q-absorbtion band within this relevant frequency range. In our example, we use only a single standard linear solid and thus use the center frequency directly as the Debye peak frequency for the solid.\n",
    "\n",
    "It now becomes practical to shift the moduli first from the reference frequency $\\omega_0$ of the model definition to the center frequency using the scaling relation for (elastic) moduli:\n",
    "$$\n",
    "\\kappa(\\omega) = \\kappa_0 [ 1 + \\frac{2}{\\pi} \\frac{1}{Q} ln(\\frac{\\omega}{\\omega_0}) ]\n",
    "$$\n",
    "Let's quickly do that.\n"
   ]
  },
  {
   "cell_type": "code",
   "execution_count": 368,
   "metadata": {},
   "outputs": [
    {
     "name": "stdout",
     "output_type": "stream",
     "text": [
      "reference modulus                    : kappa = 1000.00000\n",
      "shifted modulus (to center frequency): kappa = 1025.41729\n"
     ]
    }
   ],
   "source": [
    "def shift_modulus(kappa,omega_center,reference_f0,Q):\n",
    "    # reference angular frequency (of our model definition)\n",
    "    omega_0 = reference_f0 * 2.0 * np.pi\n",
    "\n",
    "    # shifts modulus to center frequency\n",
    "    kappa_shifted = kappa * ( 1.0 + 2.0/np.pi * 1.0 / Q * np.log(omega_center / omega_0) )\n",
    "\n",
    "    print(\"reference modulus                    : kappa = {:2.5f}\".format(kappa[0]))\n",
    "    print(\"shifted modulus (to center frequency): kappa = {:2.5f}\".format(kappa_shifted[0]))\n",
    "\n",
    "    return kappa_shifted\n",
    "\n",
    "# gets shifted modulus\n",
    "kappa_shifted = shift_modulus(kappa,omega_center,reference_f0,Q)\n"
   ]
  },
  {
   "cell_type": "markdown",
   "metadata": {},
   "source": [
    "## 2. Attenuation mechanism\n",
    "\n",
    "#### Relaxation times of the standard linear solid(s)\n",
    "In our example, we position our standard linear solid at the Debye peak frequency, which gives a relation to the stress and strain relaxation times:\n",
    "$$\n",
    "\\omega_{Debye}^{-1} = \\sqrt{ \\tau_\\sigma \\tau_\\epsilon }\n",
    "$$\n",
    "Furthermore, for our single solid we defined\n",
    "$$\n",
    "\\frac{1}{Q} = \\frac{\\omega(\\tau_\\epsilon - \\tau_\\sigma)}{1 + \\omega^2 \\tau_\\sigma \\tau_\\epsilon}\n",
    "$$\n",
    "Now solving for $\\tau_\\epsilon$ and $\\tau_\\sigma$ at the Debye frequency, we can use the two equations above and rewrite\n",
    "$$\n",
    "\\tau_\\sigma = \\frac{1}{\\omega_{Debye}^2 \\tau_\\epsilon}\n",
    "$$\n",
    "and\n",
    "$$\n",
    "\\begin{align}\n",
    "\\frac{1}{Q} &= \\frac{\\omega_{Debye}(\\tau_\\epsilon - \\tau_\\sigma)}{1 + \\omega_{Debye}^2 \\tau_\\sigma \\tau_\\epsilon} \\\\\n",
    "\\frac{1}{Q} &= \\frac{\\omega_{Debye}(\\tau_\\epsilon - \\frac{1}{\\omega_{Debye}^2 \\tau_\\epsilon})}{1 + \\omega_{Debye}^2 \\frac{1}{\\omega_{Debye}^2 \\tau_\\epsilon} \\tau_\\epsilon} \\\\\n",
    "\\frac{1}{Q} &= \\frac{\\omega_{Debye}(\\tau_\\epsilon - \\frac{1}{\\omega_{Debye}^2 \\tau_\\epsilon})}{2} \n",
    "\\end{align}\n",
    "$$\n",
    "After some more algebra, this leads to a quadratic equation for $\\tau_\\epsilon$ \n",
    "$$\n",
    "\\begin{align}\n",
    "%\\frac{\\omega_{Debye}^2 \\tau_\\epsilon^2 - 1}{\\omega_{Debye}^2 \\tau_\\epsilon} &= \\frac{2}{Q \\omega_{Debye}}  \\\\\n",
    "%\\frac{\\omega_{Debye}^2 \\tau_\\epsilon^2 - 1}{\\tau_\\epsilon} &= \\frac{2 \\omega_{Debye}}{Q}\n",
    "\\omega_{Debye}^2 \\tau_\\epsilon^2 - \\frac{2 \\omega_{Debye}}{Q} \\tau_\\epsilon - 1 &= 0\n",
    "\\end{align}\n",
    "$$\n",
    "The quadratic equation has a real solution if the determinant $b^2 - 4 a c \\geq 0$ with $a = \\omega_{Debye}^2$, $b = -\\frac{2 \\omega_{Debye}}{Q}$ and $c = -1$, and we will choose the positive solution as the relaxation time. After obtaining the strain relaxation time $\\tau_\\epsilon$ this way, we can then calculate the corresponding stress relaxation time $\\tau_\\sigma$.\n",
    "\n",
    "Note that for multiple standard linear solids, another way to determining the relaxation times is to start selecting the stress relaxation times independently by assigning evenly distributed frequencies over the frequency range of the simulation: $\\tau_\\sigma^i = \\frac{1}{\\omega^i}$. Once the stress relaxation times have been chosen, the strain relaxation times will be determined by an optimization problem to obtain the best possible flat Q response over the frequency range of interest.\n",
    "\n",
    "Let's keep it simple here and determine the strain relaxation time by the quadratic formula:"
   ]
  },
  {
   "cell_type": "code",
   "execution_count": 369,
   "metadata": {},
   "outputs": [
    {
     "name": "stdout",
     "output_type": "stream",
     "text": [
      "determinant: det =  354.42846027023114\n",
      "solutions  : tau_1 = 0.11797331364798695 and tau_2 = -0.09662043734547164\n",
      "\n",
      "strain relaxation time: tau_e = 0.11797\n",
      "stress relaxation time: tau_s = 0.09662\n",
      "\n",
      "checks:\n",
      "  good - relaxation times tau_s > tau_e\n",
      "  Debye peak frequency calculated:  9.366419641387635  compared to  9.366419641387635\n",
      "\n",
      "  Q calculated (tau_e & Debye):  10.000000000000007  compared to  10.0\n",
      "  Q calculated (tau_e & tau_s & Debye):  10.000000000000005  compared to  10.0\n",
      "\n"
     ]
    }
   ],
   "source": [
    "def determine_relaxation_times(omega_Debye,Q):\n",
    "    # quadratic equation for strain tau_epsilon\n",
    "    # strain relaxation time\n",
    "    a = omega_Debye**2\n",
    "    b = - 2.0 * omega_Debye / Q[0]\n",
    "    c = - 1\n",
    "    det = b**2 - 4.0 * a * c\n",
    "\n",
    "    tau_1 = (- b + np.sqrt(det))/ ( 2.0 * a)\n",
    "    tau_2 = (- b - np.sqrt(det))/ ( 2.0 * a)\n",
    "\n",
    "    print(\"determinant: det = \",det) \n",
    "    print(\"solutions  : tau_1 = {} and tau_2 = {}\".format(tau_1,tau_2))\n",
    "    print(\"\")\n",
    "\n",
    "    # sets the strain relaxation time to the positive solution\n",
    "    if tau_1 > 0.0:\n",
    "        tau_e = tau_1\n",
    "    elif tau_2 > 0.0:\n",
    "        tau_e = tau_2\n",
    "    else:\n",
    "        print(\"no solution found...\")\n",
    "        tau_e = 0.0\n",
    "\n",
    "    # sets the stress relaxation time\n",
    "    tau_s = 1.0 / (omega_Debye**2 * tau_e)\n",
    "\n",
    "    print(\"strain relaxation time: tau_e = {:2.5f}\".format(tau_e))\n",
    "    print(\"stress relaxation time: tau_s = {:2.5f}\".format(tau_s))\n",
    "    print(\"\")\n",
    "\n",
    "    # checks that tau_s < tau_e\n",
    "    print(\"checks:\")\n",
    "    if tau_s > tau_e:\n",
    "        print(\"  warning - relaxation times invalid, tau_s > tau_e\")\n",
    "    else:\n",
    "        print(\"  good - relaxation times tau_s > tau_e\")\n",
    "\n",
    "    # checks corresponding Debye peak\n",
    "    omega_peak = 1.0 / np.sqrt(tau_s * tau_e)\n",
    "    print(\"  Debye peak frequency calculated: \",omega_peak,\" compared to \",omega_Debye)\n",
    "    print(\"\")\n",
    "\n",
    "    # checks with Q_inv (based on tau_e & Debye frequency)\n",
    "    Q_inv = omega_Debye * (tau_e - 1.0/(omega_Debye**2 * tau_e)) / 2.0\n",
    "    print(\"  Q calculated (tau_e & Debye): \",1.0/Q_inv,\" compared to \",Q[0])\n",
    "\n",
    "    # checks with the corresponding Q value\n",
    "    Q_inv = omega_Debye * (tau_e - tau_s)/(1.0 + omega_Debye**2 * tau_s * tau_e)\n",
    "\n",
    "    print(\"  Q calculated (tau_e & tau_s & Debye): \",1.0/Q_inv,\" compared to \",Q[0])\n",
    "    print(\"\")\n",
    "    \n",
    "    return tau_s,tau_e\n",
    "\n",
    "# positions our standard linear solid at the center frequency\n",
    "omega_Debye = omega_center\n",
    "\n",
    "# gets relaxation times\n",
    "tau_s,tau_e = determine_relaxation_times(omega_Debye,Q)\n"
   ]
  },
  {
   "cell_type": "markdown",
   "metadata": {},
   "source": [
    "Having the relaxation times $\\tau_\\sigma$ and $\\tau_\\epsilon$, and the provided unrelaxed modulus $\\kappa_u = \\kappa(0) = \\kappa_r \\frac{\\tau_\\epsilon}{\\tau_\\sigma}$, we find that the relaxed modulus is given by\n",
    "$$\n",
    "\\kappa_r = \\kappa_u \\frac{\\tau_\\sigma}{\\tau_\\epsilon}\n",
    "$$"
   ]
  },
  {
   "cell_type": "code",
   "execution_count": 370,
   "metadata": {},
   "outputs": [
    {
     "name": "stdout",
     "output_type": "stream",
     "text": [
      "unrelaxed modulus kappa_u = 1025.4173 (Pa)\n",
      "relaxed   modulus kappa_r = 839.8193 (Pa)\n",
      "\n",
      "modulus defect = 185.5980 (Pa)\n",
      "\n"
     ]
    }
   ],
   "source": [
    "def determine_relaxed_modulus(kappa_shifted,tau_s,tau_e):\n",
    "    # unrelaxed modulus (as defined by model and shifted to frequency range of interest)\n",
    "    kappa_u = kappa_shifted\n",
    "\n",
    "    # relaxed modulus \n",
    "    kappa_r = kappa_u * tau_s / tau_e\n",
    "\n",
    "    print(\"unrelaxed modulus kappa_u = {:5.4f} (Pa)\".format(kappa_u[0]))\n",
    "    print(\"relaxed   modulus kappa_r = {:5.4f} (Pa)\".format(kappa_r[0]))\n",
    "    print(\"\")\n",
    "\n",
    "    # checks that kappa_u > kappa_r\n",
    "    if (kappa_u-kappa_r).any() < 0.0:\n",
    "        print(\"warning: kappa_u < kappa_r\")\n",
    "\n",
    "    # modulus defect\n",
    "    kappa_defect = kappa_u - kappa_r\n",
    "\n",
    "    print(\"modulus defect = {:5.4f} (Pa)\".format(kappa_defect[0]))\n",
    "    print(\"\")\n",
    "\n",
    "    return kappa_u,kappa_r,kappa_defect\n",
    "\n",
    "# gets un/relaxed modulus and modulus defect\n",
    "kappa_u,kappa_r,kappa_defect = determine_relaxed_modulus(kappa_shifted,tau_s,tau_e)\n"
   ]
  },
  {
   "cell_type": "markdown",
   "metadata": {},
   "source": [
    "## 3. Time stepping\n",
    "\n",
    "Here we choose a time step size"
   ]
  },
  {
   "cell_type": "code",
   "execution_count": 371,
   "metadata": {},
   "outputs": [
    {
     "name": "stdout",
     "output_type": "stream",
     "text": [
      "time step dt =  0.0002\n",
      "number of time steps nt =  5001\n",
      "\n"
     ]
    }
   ],
   "source": [
    "# timing parameters\n",
    "FACTOR = 1.0 \n",
    "\n",
    "dt = FACTOR * np.min(dx**2/c**2)    # time step\n",
    "dt = np.round(dt,decimals=4)        # round-off 4 digit\n",
    "\n",
    "T_total = 1.0                      # simulation time\n",
    "t = np.arange(0,T_total+dt/2,dt)\n",
    "nt = len(t)\n",
    "\n",
    "print(\"time step dt = \",dt)\n",
    "print(\"number of time steps nt = \",nt)\n",
    "print(\"\")\n",
    "\n"
   ]
  },
  {
   "cell_type": "markdown",
   "metadata": {},
   "source": [
    "## 4. Initial conditions\n",
    "\n",
    "Let's assign an initial displacement of the form $u(x,0) = \\phi(x)$ with $\\phi(x) = e^{-\\sigma(x-50)}$ where $\\sigma = 0.1$:"
   ]
  },
  {
   "cell_type": "code",
   "execution_count": 372,
   "metadata": {
    "scrolled": false
   },
   "outputs": [
    {
     "data": {
      "image/png": "[encoded data removed]",
      "text/plain": [
       "<Figure size 1440x360 with 1 Axes>"
      ]
     },
     "metadata": {},
     "output_type": "display_data"
    }
   ],
   "source": [
    "# wavefields\n",
    "u         = np.zeros(nx)  # displacement at time t^n\n",
    "u_nminus1 = np.zeros(nx)  #                 time t^{n-1}\n",
    "u_nplus1  = np.zeros(nx)  #                 time t^{n+1}\n",
    "\n",
    "u_analytic = np.zeros(nx)  # analytical solution\n",
    "\n",
    "# stress field\n",
    "sigma = np.zeros(nx)\n",
    "\n",
    "# memory variables\n",
    "R = np.zeros(nx)\n",
    "\n",
    "# initial displacement function\n",
    "def phi_function(x):\n",
    "    # initial displacement\n",
    "    std = 0.1\n",
    "    phi = np.exp(-std*(x-50)**2) \n",
    "    return phi\n",
    "\n",
    "# initial condition\n",
    "def initialize():\n",
    "    global u,u_nminus1,u_nplus1,sigma,R\n",
    "    # initial displacement\n",
    "    u = phi_function(x)\n",
    "    # same for previous (zero velocity from previous time step)\n",
    "    u_nminus1 = np.copy(u)\n",
    "    # same for next (zero velocity for upcoming time step)\n",
    "    u_nplus1 = np.copy(u)\n",
    "    # no initial stress\n",
    "    sigma[:] = 0.0\n",
    "    # no initial memory\n",
    "    R[:] = 0.0\n",
    "\n",
    "initialize()\n",
    "\n",
    "# plot\n",
    "plt.plot(x, u, marker='o', color='b', label='Initial displacement (t=0)')\n",
    "plt.legend()\n",
    "plt.show()"
   ]
  },
  {
   "cell_type": "markdown",
   "metadata": {},
   "source": [
    "## 5. Wave propagation\n",
    "Let's quickly setup helper functions to solve the memory variable update and stress calculations."
   ]
  },
  {
   "cell_type": "code",
   "execution_count": 373,
   "metadata": {},
   "outputs": [],
   "source": [
    "# helper function to solve the updated memory variable\n",
    "def update_R(u,R,kappa_defect,tau_e,tau_s):\n",
    "    global dx,dt\n",
    "    ## Euler scheme:\n",
    "    # R^{n+1} = R^n + \\Delta t f(t^n, R^n)\n",
    "    # and f(t,R(t)) = - \\frac{R(t)}{\\tau_\\sigma} + \\epsilon \\frac{\\delta \\kappa}{\\tau_\\sigma}        \n",
    "    for i in np.arange(1,nx-1):\n",
    "        # strain\n",
    "        eps = (u[i+1]-u[i-1]) / (2.0 * dx)\n",
    "        # modulus defect \\delta \\kappa = \\kappa_r (\\frac{\\tau_\\epsilon}{\\tau_\\sigma} - 1)\n",
    "        #  dmodulus = kappa_r * (tau_e / tau_s - 1.0) \n",
    "        # given by kappa_defect\n",
    "        defect = kappa_defect[i]\n",
    "        # function f(t,R(t))\n",
    "        f = - R[i] / tau_s + eps * defect / tau_s\n",
    "        # memory variable update (Euler scheme)\n",
    "        R[i] = R[i] + dt * f    \n",
    "    return R\n",
    "\n",
    "# helper functions to solve the updated stresses\n",
    "def compute_stress(u,R,sigma,kappa_u):\n",
    "    global dx\n",
    "    ## stress (viscoacoustic)\n",
    "    # sigma = kappa_u \\partial_x u(x,t) - R(t)\n",
    "    for i in np.arange(1,nx-1):\n",
    "        sigma_elastic = kappa_u[i] * (u[i+1]-u[i-1]) / (2.0 * dx)\n",
    "        sigma[i] = sigma_elastic - R[i]\n",
    "    return sigma\n",
    "    "
   ]
  },
  {
   "cell_type": "markdown",
   "metadata": {},
   "source": [
    "Now we're all set and can start propagating waves in our time loop:"
   ]
  },
  {
   "cell_type": "code",
   "execution_count": 374,
   "metadata": {},
   "outputs": [
    {
     "data": {
      "image/png": "[encoded data removed]",
      "text/plain": [
       "<Figure size 1440x360 with 1 Axes>"
      ]
     },
     "metadata": {},
     "output_type": "display_data"
    }
   ],
   "source": [
    "print(\"starting time loop ... \")\n",
    "print(\"\")\n",
    "\n",
    "# initialize\n",
    "initialize()\n",
    "\n",
    "# set up plot\n",
    "plt.clf()\n",
    "fig = plt.figure()\n",
    "ax = fig.add_subplot(1, 1, 1) \n",
    "\n",
    "# time marching\n",
    "for it in np.arange(0,nt):\n",
    "\n",
    "    # time scheme\n",
    "    u_nminus1 = np.copy(u)\n",
    "    u = np.copy(u_nplus1)\n",
    "\n",
    "    # computes first the (viscoelastic) stresses \n",
    "    sigma = compute_stress(u,R,sigma,kappa_u)\n",
    "    \n",
    "    # finite-difference update\n",
    "    # uses the stress formulation:\n",
    "    #    u_i^{n+1} = 2 u_i^n - u_i^{n-1} + dt**2 1/rho (sigma_{i+1}^n - sigma_{i-1}^n)/(2 dx)\n",
    "    for i in np.arange(1,nx-1):        \n",
    "        u_nplus1[i] = 2*u[i] - u_nminus1[i] + (dt*dt/ rho[i]) * (sigma[i+1]-sigma[i-1]) / (2.0*dx)\n",
    "\n",
    "    # update memory variables\n",
    "    # R^{n+1} = R^n + dt f\n",
    "    R = update_R(u,R,kappa_defect,tau_e,tau_s)\n",
    "    \n",
    "    # plot figure\n",
    "    if (it+1)%50 == 0:\n",
    "        t_nplus1 = (it+1) * dt\n",
    "        \n",
    "        # analytical solution\n",
    "        for ix in np.arange(len(x)):\n",
    "            x_pos = ix * dx # position\n",
    "            f = phi_function(x_pos + c[ix] * t_nplus1)\n",
    "            g = phi_function(x_pos - c[ix] * t_nplus1)            \n",
    "            u_analytic[ix] = 1.0/2.0 * ( f + g)\n",
    "            \n",
    "        # plotting\n",
    "        t_nplus1 = np.round(t_nplus1,decimals=4)        # round-off 4 digit\n",
    "        #print(\"time step \",it,\" - time = \",t_nplus1)\n",
    "        #print(\"\")\n",
    "        \n",
    "        # plots displacement  \n",
    "        clear_output(wait=True)\n",
    "        plt.title('Time t = {:2.3f} - Q {}'.format(t_nplus1,Q[0]))\n",
    "        plt.plot(x, u_nplus1, marker='o', color = 'b', label = 'displacement (viscoacoustic)')\n",
    "        plt.plot(x, u_analytic, color = 'black', label = 'analytic (acoustic)')\n",
    "        plt.ylim(-1,1)\n",
    "        plt.legend()\n",
    "        #plt.show()\n",
    "        plt.pause(0.01)\n",
    "        \n"
   ]
  },
  {
   "cell_type": "markdown",
   "metadata": {},
   "source": [
    "Now, change the quality factor Q and see what happens..."
   ]
  },
  {
   "cell_type": "code",
   "execution_count": null,
   "metadata": {},
   "outputs": [],
   "source": []
  }
 ],
 "metadata": {
  "kernelspec": {
   "display_name": "Python 3 (ipykernel)",
   "language": "python",
   "name": "python3"
  },
  "language_info": {
   "codemirror_mode": {
    "name": "ipython",
    "version": 3
   },
   "file_extension": ".py",
   "mimetype": "text/x-python",
   "name": "python",
   "nbconvert_exporter": "python",
   "pygments_lexer": "ipython3",
   "version": "3.7.13"
  }
 },
 "nbformat": 4,
 "nbformat_minor": 2
}
